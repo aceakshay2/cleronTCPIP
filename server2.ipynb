{
 "cells": [
  {
   "cell_type": "markdown",
   "id": "ef4f7dd8",
   "metadata": {},
   "source": [
    "# Server code\n",
    "\n",
    "This code works well on the following version of softwares:\n",
    "1. pyModbusTCP == 0.1.10\n",
    "2. pyModbus == 2.5.3<br>\n",
    "\n",
    "___Ensure that both the client and the server have the aforementioned software versions. If not , the following cade may not work___.<br>\n",
    "\n",
    "Also it is important to set the IPV4 addressof your server machine. The video link to do that is mentioned below:<br>\n",
    "https://www.youtube.com/watch?v=L1JYYyY3TGI\n",
    "\n",
    "If your code still does not work, windows defender may be blocking that app. To change that:<br>\n",
    "https://www.youtube.com/watch?v=k6o_mABunKs&t=7s\n",
    "\n",
    "\n"
   ]
  },
  {
   "cell_type": "code",
   "execution_count": null,
   "id": "990e6bf6",
   "metadata": {},
   "outputs": [],
   "source": [
    "import sys\n",
    "print(\"User Current Version:-\", sys.version)"
   ]
  },
  {
   "cell_type": "code",
   "execution_count": null,
   "id": "aa0ed16a",
   "metadata": {},
   "outputs": [],
   "source": [
    "from pyModbusTCP.server import ModbusServer , DataBank\n",
    "from time import sleep\n",
    "from random import uniform\n",
    "\n",
    "class local_server:\n",
    "    \n",
    "    def __init__(self , ip_addr , port_num):\n",
    "        self.ip_addr = ip_addr\n",
    "        self.port_num = port_num\n",
    "        self.server  = ModbusServer(self.ip_addr , self.port_num ,no_block = True)\n",
    "        try:\n",
    "            '''Runs a server as long as server.stop is called'''\n",
    "            print(\"Start server....\")\n",
    "            self.server.start()\n",
    "            print(\"Server is online\")\n",
    "            \n",
    "        except Exception as e:\n",
    "            print(\"Shutdown server....\")\n",
    "            server.stop()\n",
    "            print(\"Server is offline\")\n",
    "            print(e)\n",
    "            \n",
    "        except KeyboardInterrupt:\n",
    "            print(\"Shutdown server....\")\n",
    "            server.stop()\n",
    "            print(\"Server is offline\")\n",
    "            print('KeyboardInterrupt')\n",
    "    \n",
    "    def stop(self):\n",
    "        print(\"Shutdown server....\")\n",
    "        self.server.stop()\n",
    "        print(\"Server is offline\")\n",
    "        \n",
    "    def send_data(self , register_num , num):\n",
    "        try:\n",
    "            if(register_num>=30001)and(register_num<=30100):\n",
    "                DataBank.set_words(register_num-30001 , [num])\n",
    "            elif(register_num>=40001)and(register_num<=40100):\n",
    "                DataBank.set_words(register_num-40001 , [num])\n",
    "        except Exception as e:\n",
    "            print(e)\n",
    "    \n",
    "    def receive_data(self , register_num):\n",
    "        try:\n",
    "            if(register_num>=40001)and(register_num<=40100):\n",
    "                print(DataBank.get_words(register_num-40001))\n",
    "            else:\n",
    "                pass \n",
    "        except Exception as e:\n",
    "            print(e)\n",
    "        \n"
   ]
  },
  {
   "cell_type": "code",
   "execution_count": null,
   "id": "7ebcf43a",
   "metadata": {},
   "outputs": [],
   "source": [
    "cleron_server = local_server('192.168.3.40' , 12345)"
   ]
  },
  {
   "cell_type": "code",
   "execution_count": null,
   "id": "dd74b51c",
   "metadata": {},
   "outputs": [],
   "source": [
    "# cleron_server.send_data(40001 ,8)\n",
    "while 1:\n",
    "    k = cleron_server.send_data(40004 , 120)\n",
    "    print(k)\n",
    "    sleep(1)\n"
   ]
  },
  {
   "cell_type": "code",
   "execution_count": null,
   "id": "b0652f5d",
   "metadata": {},
   "outputs": [],
   "source": [
    "while 1:\n",
    "    k = cleron_server.receive_data(register_num = 40003)\n",
    "    print(k)\n",
    "    sleep(1)"
   ]
  },
  {
   "cell_type": "code",
   "execution_count": null,
   "id": "cf05823f",
   "metadata": {},
   "outputs": [],
   "source": [
    "while 1:\n",
    "    cleron_server.send_data(40002 , 20)\n",
    "    k=cleron_server.receive_data(register_num = 40003)\n",
    "    \n",
    "    print(k)\n",
    "    sleep(1)"
   ]
  },
  {
   "cell_type": "code",
   "execution_count": null,
   "id": "3db221d9",
   "metadata": {},
   "outputs": [],
   "source": [
    "cleron_server.stop()"
   ]
  },
  {
   "cell_type": "code",
   "execution_count": null,
   "id": "17123456",
   "metadata": {},
   "outputs": [],
   "source": [
    "arr = [8,4,2,1]\n",
    "for i in range(5):\n",
    "    for j in arr:\n",
    "        cleron_server.send_data(40002 , j)\n",
    "        print(f'number {j} sent')\n",
    "        sleep(2)"
   ]
  },
  {
   "cell_type": "code",
   "execution_count": null,
   "id": "e76e768e",
   "metadata": {},
   "outputs": [],
   "source": [
    "cleron_server.stop()"
   ]
  }
 ],
 "metadata": {
  "kernelspec": {
   "display_name": "Python 3 (ipykernel)",
   "language": "python",
   "name": "python3"
  },
  "language_info": {
   "codemirror_mode": {
    "name": "ipython",
    "version": 3
   },
   "file_extension": ".py",
   "mimetype": "text/x-python",
   "name": "python",
   "nbconvert_exporter": "python",
   "pygments_lexer": "ipython3",
   "version": "3.10.5"
  }
 },
 "nbformat": 4,
 "nbformat_minor": 5
}
