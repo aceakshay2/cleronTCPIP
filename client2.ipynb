{
 "cells": [
  {
   "cell_type": "markdown",
   "id": "5f0d1d0d",
   "metadata": {},
   "source": [
    "# Client code\n",
    "\n",
    "This code works well on the following version of softwares:\n",
    "1. pyModbusTCP == 0.1.10\n",
    "2. pyModbus == 2.5.3<br>\n",
    "\n",
    "___Ensure that both the client and the server have the aforementioned software versions. If not , the following cade may not work___.<br>\n",
    "\n",
    "Also it is important to set the IPV4 addressof your server machine. The video link to do that is mentioned below:<br>\n",
    "https://www.youtube.com/watch?v=L1JYYyY3TGI\n",
    "\n",
    "If your code still does not work, windows defender may be blocking that app. To change that:<br>\n",
    "https://www.youtube.com/watch?v=k6o_mABunKs&t=7s"
   ]
  },
  {
   "cell_type": "code",
   "execution_count": 1,
   "id": "b6e500f9",
   "metadata": {},
   "outputs": [],
   "source": [
    "\n",
    "from pyModbusTCP.client import ModbusClient\n",
    "from time import sleep\n",
    "from random import uniform\n",
    "\n",
    "class client_side:\n",
    "   \n",
    "    def __init__(self , ip_addr , port_num):\n",
    "        #self.ip_addr = ip_addr\n",
    "        #self.port_num = port_num\n",
    "        self.client  = ModbusClient(host = ip_addr , port = port_num)\n",
    "        self.client.open()\n",
    "        if(self.client.open()):\n",
    "            print(f'Connection to server {ip_addr} established!')\n",
    "        else:\n",
    "            print(f'Could not connect to server {ip_addr}')        \n",
    "   \n",
    "    def stop(self):\n",
    "        print(\"disconnecting....\")\n",
    "        self.client.close()\n",
    "        print(\"disconnected.\")\n",
    "\n",
    "    \n",
    "    def send_data(self , register_num , num):\n",
    "        try:\n",
    "            if(register_num>=30001)and(register_num<=30100):\n",
    "                status = self.client.write_single_register(register_num-30001,num)\n",
    "                if status:\n",
    "                    print('data sent!')\n",
    "                else:\n",
    "                    print('not sent')\n",
    "        \n",
    "            elif(register_num>=40001)and(register_num<=40100):\n",
    "                status = self.client.write_single_register(register_num-40001,num)\n",
    "                if status:\n",
    "                    print('data sent!')\n",
    "                else:\n",
    "                    print('not sent')\n",
    "                    \n",
    "        except Exception as e:\n",
    "            print(e)\n",
    "   \n",
    "    def receive_data(self , register_num):\n",
    "        try:\n",
    "            if(register_num>=40001)and(register_num<=40100):\n",
    "                return (self.client.read_holding_registers(register_num-40001))\n",
    "            else:\n",
    "                pass\n",
    "        except Exception as e:\n",
    "            print(e)\n",
    "\n"
   ]
  },
  {
   "cell_type": "code",
   "execution_count": 2,
   "id": "5e5365a0",
   "metadata": {},
   "outputs": [
    {
     "name": "stdout",
     "output_type": "stream",
     "text": [
      "Connection to server 192.168.3.10 established!\n"
     ]
    }
   ],
   "source": [
    "cleron_client = client_side(ip_addr = '192.168.3.10' , port_num = 12345)"
   ]
  },
  {
   "cell_type": "code",
   "execution_count": 3,
   "id": "6545f0f0",
   "metadata": {},
   "outputs": [
    {
     "name": "stdout",
     "output_type": "stream",
     "text": [
      "data sent!\n"
     ]
    }
   ],
   "source": [
    "cleron_client.send_data(40001 , 999)"
   ]
  },
  {
   "cell_type": "code",
   "execution_count": 5,
   "id": "381bb0d6",
   "metadata": {},
   "outputs": [
    {
     "data": {
      "text/plain": [
       "[7010]"
      ]
     },
     "execution_count": 5,
     "metadata": {},
     "output_type": "execute_result"
    }
   ],
   "source": [
    "cleron_client.receive_data(40001)"
   ]
  },
  {
   "cell_type": "code",
   "execution_count": 6,
   "id": "327563f3",
   "metadata": {},
   "outputs": [
    {
     "name": "stdout",
     "output_type": "stream",
     "text": [
      "disconnecting....\n",
      "disconnected.\n"
     ]
    }
   ],
   "source": [
    "cleron_client.stop()"
   ]
  }
 ],
 "metadata": {
  "kernelspec": {
   "display_name": "Python 3 (ipykernel)",
   "language": "python",
   "name": "python3"
  },
  "language_info": {
   "codemirror_mode": {
    "name": "ipython",
    "version": 3
   },
   "file_extension": ".py",
   "mimetype": "text/x-python",
   "name": "python",
   "nbconvert_exporter": "python",
   "pygments_lexer": "ipython3",
   "version": "3.10.5"
  }
 },
 "nbformat": 4,
 "nbformat_minor": 5
}
